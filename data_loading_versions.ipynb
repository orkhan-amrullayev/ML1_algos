{
  "nbformat": 4,
  "nbformat_minor": 0,
  "metadata": {
    "colab": {
      "name": "data_loading_versions.ipynb",
      "provenance": [],
      "authorship_tag": "ABX9TyOmYQvFlacrTewP6vBrnNS6",
      "include_colab_link": true
    },
    "kernelspec": {
      "name": "python3",
      "display_name": "Python 3"
    },
    "language_info": {
      "name": "python"
    }
  },
  "cells": [
    {
      "cell_type": "markdown",
      "metadata": {
        "id": "view-in-github",
        "colab_type": "text"
      },
      "source": [
        "<a href=\"https://colab.research.google.com/github/orkhan-amrullayev/ML1_algos/blob/main/data_loading_versions.ipynb\" target=\"_parent\"><img src=\"https://colab.research.google.com/assets/colab-badge.svg\" alt=\"Open In Colab\"/></a>"
      ]
    },
    {
      "cell_type": "code",
      "metadata": {
        "id": "8envM6AR3Pnd"
      },
      "source": [
        "import pandas as pd"
      ],
      "execution_count": 1,
      "outputs": []
    },
    {
      "cell_type": "markdown",
      "metadata": {
        "id": "CvLHT3Mb3cKR"
      },
      "source": [
        "# If we do not have colnames"
      ]
    },
    {
      "cell_type": "code",
      "metadata": {
        "id": "dcwnjEWB3XYw"
      },
      "source": [
        "columns_names = [\" \", \" \", \" \"]\n",
        "\n",
        "data = pd.read_csv(\"data.csv\", header=None, names=columns_names)"
      ],
      "execution_count": null,
      "outputs": []
    },
    {
      "cell_type": "code",
      "metadata": {
        "id": "FFHonQJO30ns"
      },
      "source": [
        ""
      ],
      "execution_count": null,
      "outputs": []
    }
  ]
}